{
 "cells": [
  {
   "cell_type": "code",
   "execution_count": 1,
   "metadata": {},
   "outputs": [],
   "source": [
    "import pandas as pd\n",
    "import urllib\n",
    "from sklearn.pipeline import Pipeline\n",
    "from sklearn.feature_extraction.text import CountVectorizer\n",
    "from sklearn.feature_extraction.text import TfidfTransformer\n",
    "from sklearn.linear_model import LogisticRegression\n",
    "from sklearn.metrics import roc_auc_score\n",
    "import pickle\n",
    "import preprocessor as p\n",
    "import numpy as np"
   ]
  },
  {
   "cell_type": "code",
   "execution_count": 2,
   "metadata": {},
   "outputs": [],
   "source": [
    "import string\n",
    "\n",
    "def load_data():\n",
    "    filename = \"../data/twitter_data.pkl\"\n",
    "    print(\"Loading data from file: \" + filename)\n",
    "    data = pickle.load(open(filename, 'rb'))\n",
    "    x_text = []\n",
    "    labels = [] \n",
    "    ids = []\n",
    "    for i in range(len(data)):\n",
    "        text = \"\".join(l for l in data[i]['text'] if l not in string.punctuation)\n",
    "        x_text.append((data[i]['text']).encode('utf-8'))\n",
    "        labels.append(data[i]['label'])\n",
    "    return x_text,labels"
   ]
  },
  {
   "cell_type": "code",
   "execution_count": 3,
   "metadata": {},
   "outputs": [
    {
     "name": "stdout",
     "output_type": "stream",
     "text": [
      "Loading data from file: ../data/twitter_data.pkl\n"
     ]
    }
   ],
   "source": [
    "x_text, labels = load_data()\n",
    "dict1 = {'racism':1,'sexism':1,'none':0}  # Both are 1 because both are cases of bullying\n",
    "labels = np.array([dict1[b] for b in labels])"
   ]
  },
  {
   "cell_type": "code",
   "execution_count": 4,
   "metadata": {},
   "outputs": [],
   "source": [
    "comments = pd.DataFrame({'comment': x_text, 'attack': labels})"
   ]
  },
  {
   "cell_type": "code",
   "execution_count": 5,
   "metadata": {},
   "outputs": [
    {
     "data": {
      "text/html": [
       "<div>\n",
       "<style scoped>\n",
       "    .dataframe tbody tr th:only-of-type {\n",
       "        vertical-align: middle;\n",
       "    }\n",
       "\n",
       "    .dataframe tbody tr th {\n",
       "        vertical-align: top;\n",
       "    }\n",
       "\n",
       "    .dataframe thead th {\n",
       "        text-align: right;\n",
       "    }\n",
       "</style>\n",
       "<table border=\"1\" class=\"dataframe\">\n",
       "  <thead>\n",
       "    <tr style=\"text-align: right;\">\n",
       "      <th></th>\n",
       "      <th>comment</th>\n",
       "      <th>attack</th>\n",
       "    </tr>\n",
       "  </thead>\n",
       "  <tbody>\n",
       "    <tr>\n",
       "      <th>0</th>\n",
       "      <td>b'rt @colonelkickhead: another bloody instant ...</td>\n",
       "      <td>0</td>\n",
       "    </tr>\n",
       "    <tr>\n",
       "      <th>1</th>\n",
       "      <td>b'@azzamalirhabi @jihadia8 this video of the p...</td>\n",
       "      <td>0</td>\n",
       "    </tr>\n",
       "    <tr>\n",
       "      <th>2</th>\n",
       "      <td>b\"oh really ?  no more instant restaurants ?  ...</td>\n",
       "      <td>0</td>\n",
       "    </tr>\n",
       "    <tr>\n",
       "      <th>3</th>\n",
       "      <td>b'rt @benfrancisallen: it has not been a good ...</td>\n",
       "      <td>0</td>\n",
       "    </tr>\n",
       "    <tr>\n",
       "      <th>4</th>\n",
       "      <td>b'rt @notofeminism: i don\\xe2\\x80\\x99t need fe...</td>\n",
       "      <td>0</td>\n",
       "    </tr>\n",
       "  </tbody>\n",
       "</table>\n",
       "</div>"
      ],
      "text/plain": [
       "                                             comment  attack\n",
       "0  b'rt @colonelkickhead: another bloody instant ...       0\n",
       "1  b'@azzamalirhabi @jihadia8 this video of the p...       0\n",
       "2  b\"oh really ?  no more instant restaurants ?  ...       0\n",
       "3  b'rt @benfrancisallen: it has not been a good ...       0\n",
       "4  b'rt @notofeminism: i don\\xe2\\x80\\x99t need fe...       0"
      ]
     },
     "execution_count": 5,
     "metadata": {},
     "output_type": "execute_result"
    }
   ],
   "source": [
    "comments.head()"
   ]
  },
  {
   "cell_type": "code",
   "execution_count": 6,
   "metadata": {},
   "outputs": [],
   "source": [
    "swear_words = \"../swear_words.txt\"\n",
    "word_list = []\n",
    "with open(swear_words) as f:\n",
    "    word_list = f.read().splitlines()"
   ]
  },
  {
   "cell_type": "code",
   "execution_count": 7,
   "metadata": {},
   "outputs": [],
   "source": [
    "from textblob import TextBlob\n",
    "\n",
    "def tokens(post):\n",
    "    return TextBlob(post.decode('utf8')).words\n",
    "    \n",
    "def get_bad_word_count(post):\n",
    "    x = tokens(post)\n",
    "    count = 0\n",
    "    bad_words = []\n",
    "    for word in x:\n",
    "        if word in word_list:\n",
    "            count+=1\n",
    "            bad_words.append(word)\n",
    "    return count, str(bad_words)\n",
    "\n",
    "comments['bad_word_count'],comments['bad_word_list']= zip(*comments['comment'].map(get_bad_word_count)) "
   ]
  },
  {
   "cell_type": "code",
   "execution_count": 9,
   "metadata": {},
   "outputs": [],
   "source": [
    "def data_analysis(comments):\n",
    "    total = len(comments)\n",
    "    bully = len(comments[comments['attack']==1])\n",
    "    swear = len(comments[comments['bad_word_count']>0])\n",
    "    swear_bully = len(comments[(comments['bad_word_count']>0) & (comments['attack']==1) ])\n",
    "\n",
    "    P_B = float(bully)/total\n",
    "    P_S = float(swear)/total\n",
    "    P_B_S = float(swear_bully)/swear\n",
    "    P_S_B = float(swear_bully)/bully\n",
    "    \n",
    "    print(\"P(B): \" + str(P_B))\n",
    "    print(\"P(S): \" + str(P_S))\n",
    "    print(\"P(B|S): \" + str(P_B_S))\n",
    "    print(\"P(S|B): \" + str(P_S_B))\n",
    "    \n",
    "    sen_length = 100\n",
    "    \n",
    "    short_sentence = comments['comment'].where(comments['comment'].str.len()<=sen_length).count()\n",
    "    long_sentence = comments['comment'].where(comments['comment'].str.len()>sen_length).count()\n",
    "    \n",
    "   \n",
    "    print(\"Number of short sentences (sentence length <=\" + str(sen_length) + \"): \" + str(short_sentence))\n",
    "    print(\"Number of long sentences (sentence length >\" + str(sen_length) + \"): \" + str(long_sentence))\n",
    "    "
   ]
  },
  {
   "cell_type": "code",
   "execution_count": 10,
   "metadata": {},
   "outputs": [
    {
     "name": "stdout",
     "output_type": "stream",
     "text": [
      "P(B): 0.31410814170292106\n",
      "P(S): 0.135052827843381\n",
      "P(B|S): 0.42982052462034054\n",
      "P(S|B): 0.184804115552038\n",
      "Number of short sentences (sentence length <=100): 7689\n",
      "Number of long sentences (sentence length >100): 8401\n"
     ]
    }
   ],
   "source": [
    "data_analysis(comments)"
   ]
  },
  {
   "cell_type": "code",
   "execution_count": 11,
   "metadata": {},
   "outputs": [
    {
     "name": "stdout",
     "output_type": "stream",
     "text": [
      "0        b'rt @colonelkickhead: another bloody instant ...\n",
      "1        b'@azzamalirhabi @jihadia8 this video of the p...\n",
      "2        b\"oh really ?  no more instant restaurants ?  ...\n",
      "3        b'rt @benfrancisallen: it has not been a good ...\n",
      "4        b'rt @notofeminism: i don\\xe2\\x80\\x99t need fe...\n",
      "                               ...                        \n",
      "16085    b'rt @mydearwormwood: \"i want equal rights ,  ...\n",
      "16086    b'rt @alexxxarich: go ahead and call me sexist...\n",
      "16087    b'@irtsuki i have had the epic ,  but i always...\n",
      "16088    b'@colonel_shami so do you think that the daes...\n",
      "16089    b'rt @infosec_hulk: @freebsdgirl my skin green...\n",
      "Name: comment, Length: 16090, dtype: object\n"
     ]
    }
   ],
   "source": [
    "print(comments['comment'])"
   ]
  },
  {
   "cell_type": "code",
   "execution_count": null,
   "metadata": {},
   "outputs": [],
   "source": []
  }
 ],
 "metadata": {
  "kernelspec": {
   "display_name": "Python 3 (ipykernel)",
   "language": "python",
   "name": "python3"
  },
  "language_info": {
   "codemirror_mode": {
    "name": "ipython",
    "version": 3
   },
   "file_extension": ".py",
   "mimetype": "text/x-python",
   "name": "python",
   "nbconvert_exporter": "python",
   "pygments_lexer": "ipython3",
   "version": "3.7.13"
  }
 },
 "nbformat": 4,
 "nbformat_minor": 2
}
